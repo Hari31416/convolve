{
 "cells": [
  {
   "cell_type": "code",
   "execution_count": 1,
   "metadata": {},
   "outputs": [
    {
     "name": "stderr",
     "output_type": "stream",
     "text": [
      "2022-12-20 18:45:28.461527: I tensorflow/core/platform/cpu_feature_guard.cc:193] This TensorFlow binary is optimized with oneAPI Deep Neural Network Library (oneDNN) to use the following CPU instructions in performance-critical operations:  AVX2 FMA\n",
      "To enable them in other operations, rebuild TensorFlow with the appropriate compiler flags.\n"
     ]
    }
   ],
   "source": [
    "import numpy as np\n",
    "import pandas as pd\n",
    "import tensorflow as tf\n",
    "from tensorflow.keras import Model, Sequential\n",
    "import tensorflow.keras.layers as tfl\n",
    "from sklearn.metrics import accuracy_score\n",
    "\n",
    "from sklearn.model_selection import train_test_split\n",
    "from sklearn.preprocessing import StandardScaler, LabelEncoder\n",
    "from sklearn.metrics import accuracy_score"
   ]
  },
  {
   "attachments": {},
   "cell_type": "markdown",
   "metadata": {},
   "source": [
    "## Preparing Data"
   ]
  },
  {
   "cell_type": "code",
   "execution_count": 2,
   "metadata": {},
   "outputs": [],
   "source": [
    "train = pd.read_csv(\"data/train_final.csv\")\n",
    "test = pd.read_csv(\"data/test_final.csv\")\n",
    "sample = pd.read_csv(\"data/sample_submission.csv\")"
   ]
  },
  {
   "cell_type": "code",
   "execution_count": 3,
   "metadata": {},
   "outputs": [],
   "source": [
    "normal = train[train[\"target\"] == \"normal\"]\n",
    "anomaly = train[train[\"target\"] != \"normal\"]"
   ]
  },
  {
   "cell_type": "code",
   "execution_count": 4,
   "metadata": {},
   "outputs": [
    {
     "data": {
      "text/plain": [
       "(3931871, 69692)"
      ]
     },
     "execution_count": 4,
     "metadata": {},
     "output_type": "execute_result"
    }
   ],
   "source": [
    "len(normal), len(anomaly)"
   ]
  },
  {
   "cell_type": "code",
   "execution_count": 5,
   "metadata": {},
   "outputs": [
    {
     "name": "stderr",
     "output_type": "stream",
     "text": [
      "/tmp/ipykernel_13046/73781852.py:1: SettingWithCopyWarning: \n",
      "A value is trying to be set on a copy of a slice from a DataFrame\n",
      "\n",
      "See the caveats in the documentation: https://pandas.pydata.org/pandas-docs/stable/user_guide/indexing.html#returning-a-view-versus-a-copy\n",
      "  normal.drop_duplicates(keep=\"first\", inplace=True)\n"
     ]
    }
   ],
   "source": [
    "normal.drop_duplicates(keep=\"first\", inplace=True)"
   ]
  },
  {
   "cell_type": "code",
   "execution_count": 6,
   "metadata": {},
   "outputs": [
    {
     "data": {
      "text/plain": [
       "1998979"
      ]
     },
     "execution_count": 6,
     "metadata": {},
     "output_type": "execute_result"
    }
   ],
   "source": [
    "len(normal)"
   ]
  },
  {
   "cell_type": "code",
   "execution_count": 7,
   "metadata": {},
   "outputs": [
    {
     "data": {
      "text/html": [
       "<div>\n",
       "<style scoped>\n",
       "    .dataframe tbody tr th:only-of-type {\n",
       "        vertical-align: middle;\n",
       "    }\n",
       "\n",
       "    .dataframe tbody tr th {\n",
       "        vertical-align: top;\n",
       "    }\n",
       "\n",
       "    .dataframe thead th {\n",
       "        text-align: right;\n",
       "    }\n",
       "</style>\n",
       "<table border=\"1\" class=\"dataframe\">\n",
       "  <thead>\n",
       "    <tr style=\"text-align: right;\">\n",
       "      <th></th>\n",
       "      <th>target</th>\n",
       "      <th>month</th>\n",
       "      <th>day</th>\n",
       "      <th>hour</th>\n",
       "      <th>minute</th>\n",
       "      <th>nums</th>\n",
       "      <th>alpha</th>\n",
       "      <th>small</th>\n",
       "      <th>NULL DISCOVERY ERROR</th>\n",
       "      <th>NULL DISCOVERY SEVERE</th>\n",
       "      <th>NULL DISCOVERY WARNING</th>\n",
       "      <th>NULL HARDWARE WARNING</th>\n",
       "      <th>NULL MONITOR FAILURE</th>\n",
       "      <th>RAS APP FATAL</th>\n",
       "      <th>RAS KERNEL FATAL</th>\n",
       "      <th>RAS KERNEL INFO</th>\n",
       "      <th>RAS LINKCARD INFO</th>\n",
       "    </tr>\n",
       "  </thead>\n",
       "  <tbody>\n",
       "    <tr>\n",
       "      <th>0</th>\n",
       "      <td>normal</td>\n",
       "      <td>0.068621</td>\n",
       "      <td>0.0</td>\n",
       "      <td>0.0</td>\n",
       "      <td>0.016326</td>\n",
       "      <td>0.000479</td>\n",
       "      <td>0.029706</td>\n",
       "      <td>instruction cache parity error corrected</td>\n",
       "      <td>0</td>\n",
       "      <td>0</td>\n",
       "      <td>0</td>\n",
       "      <td>0</td>\n",
       "      <td>0</td>\n",
       "      <td>0</td>\n",
       "      <td>0</td>\n",
       "      <td>1</td>\n",
       "      <td>0</td>\n",
       "    </tr>\n",
       "    <tr>\n",
       "      <th>64</th>\n",
       "      <td>normal</td>\n",
       "      <td>0.068621</td>\n",
       "      <td>0.0</td>\n",
       "      <td>0.0</td>\n",
       "      <td>0.019392</td>\n",
       "      <td>0.000479</td>\n",
       "      <td>0.029706</td>\n",
       "      <td>instruction cache parity error corrected</td>\n",
       "      <td>0</td>\n",
       "      <td>0</td>\n",
       "      <td>0</td>\n",
       "      <td>0</td>\n",
       "      <td>0</td>\n",
       "      <td>0</td>\n",
       "      <td>0</td>\n",
       "      <td>1</td>\n",
       "      <td>0</td>\n",
       "    </tr>\n",
       "    <tr>\n",
       "      <th>249</th>\n",
       "      <td>normal</td>\n",
       "      <td>0.068621</td>\n",
       "      <td>0.0</td>\n",
       "      <td>0.0</td>\n",
       "      <td>0.018225</td>\n",
       "      <td>0.000479</td>\n",
       "      <td>0.029706</td>\n",
       "      <td>instruction cache parity error corrected</td>\n",
       "      <td>0</td>\n",
       "      <td>0</td>\n",
       "      <td>0</td>\n",
       "      <td>0</td>\n",
       "      <td>0</td>\n",
       "      <td>0</td>\n",
       "      <td>0</td>\n",
       "      <td>1</td>\n",
       "      <td>0</td>\n",
       "    </tr>\n",
       "    <tr>\n",
       "      <th>645</th>\n",
       "      <td>normal</td>\n",
       "      <td>0.068621</td>\n",
       "      <td>0.0</td>\n",
       "      <td>0.0</td>\n",
       "      <td>0.023912</td>\n",
       "      <td>0.000479</td>\n",
       "      <td>0.029706</td>\n",
       "      <td>instruction cache parity error corrected</td>\n",
       "      <td>0</td>\n",
       "      <td>0</td>\n",
       "      <td>0</td>\n",
       "      <td>0</td>\n",
       "      <td>0</td>\n",
       "      <td>0</td>\n",
       "      <td>0</td>\n",
       "      <td>1</td>\n",
       "      <td>0</td>\n",
       "    </tr>\n",
       "    <tr>\n",
       "      <th>1044</th>\n",
       "      <td>normal</td>\n",
       "      <td>0.068621</td>\n",
       "      <td>0.0</td>\n",
       "      <td>0.0</td>\n",
       "      <td>0.017102</td>\n",
       "      <td>0.000479</td>\n",
       "      <td>0.029706</td>\n",
       "      <td>instruction cache parity error corrected</td>\n",
       "      <td>0</td>\n",
       "      <td>0</td>\n",
       "      <td>0</td>\n",
       "      <td>0</td>\n",
       "      <td>0</td>\n",
       "      <td>0</td>\n",
       "      <td>0</td>\n",
       "      <td>1</td>\n",
       "      <td>0</td>\n",
       "    </tr>\n",
       "  </tbody>\n",
       "</table>\n",
       "</div>"
      ],
      "text/plain": [
       "      target     month  day  hour    minute      nums     alpha  \\\n",
       "0     normal  0.068621  0.0   0.0  0.016326  0.000479  0.029706   \n",
       "64    normal  0.068621  0.0   0.0  0.019392  0.000479  0.029706   \n",
       "249   normal  0.068621  0.0   0.0  0.018225  0.000479  0.029706   \n",
       "645   normal  0.068621  0.0   0.0  0.023912  0.000479  0.029706   \n",
       "1044  normal  0.068621  0.0   0.0  0.017102  0.000479  0.029706   \n",
       "\n",
       "                                         small  NULL DISCOVERY ERROR  \\\n",
       "0     instruction cache parity error corrected                     0   \n",
       "64    instruction cache parity error corrected                     0   \n",
       "249   instruction cache parity error corrected                     0   \n",
       "645   instruction cache parity error corrected                     0   \n",
       "1044  instruction cache parity error corrected                     0   \n",
       "\n",
       "      NULL DISCOVERY SEVERE  NULL DISCOVERY WARNING  NULL HARDWARE WARNING  \\\n",
       "0                         0                       0                      0   \n",
       "64                        0                       0                      0   \n",
       "249                       0                       0                      0   \n",
       "645                       0                       0                      0   \n",
       "1044                      0                       0                      0   \n",
       "\n",
       "      NULL MONITOR FAILURE  RAS APP FATAL  RAS KERNEL FATAL  RAS KERNEL INFO  \\\n",
       "0                        0              0                 0                1   \n",
       "64                       0              0                 0                1   \n",
       "249                      0              0                 0                1   \n",
       "645                      0              0                 0                1   \n",
       "1044                     0              0                 0                1   \n",
       "\n",
       "      RAS LINKCARD INFO  \n",
       "0                     0  \n",
       "64                    0  \n",
       "249                   0  \n",
       "645                   0  \n",
       "1044                  0  "
      ]
     },
     "execution_count": 7,
     "metadata": {},
     "output_type": "execute_result"
    }
   ],
   "source": [
    "data = pd.concat([normal, anomaly], axis=0)\n",
    "data.head()"
   ]
  },
  {
   "cell_type": "code",
   "execution_count": 8,
   "metadata": {},
   "outputs": [
    {
     "data": {
      "text/plain": [
       "normal      0.966311\n",
       "abnormal    0.033689\n",
       "Name: target, dtype: float64"
      ]
     },
     "execution_count": 8,
     "metadata": {},
     "output_type": "execute_result"
    }
   ],
   "source": [
    "data[\"target\"].value_counts()/len(data)"
   ]
  },
  {
   "cell_type": "code",
   "execution_count": 9,
   "metadata": {},
   "outputs": [
    {
     "data": {
      "text/plain": [
       "25.436115702062768"
      ]
     },
     "execution_count": 9,
     "metadata": {},
     "output_type": "execute_result"
    }
   ],
   "source": [
    "m_train = 1\n",
    "m_test = (0.966311/0.033689)/(53/47)\n",
    "m_test"
   ]
  },
  {
   "cell_type": "code",
   "execution_count": 10,
   "metadata": {},
   "outputs": [],
   "source": [
    "def normalize_column(col):\n",
    "    column_train = data[col]*m_train\n",
    "    column_test = test[col]*m_test\n",
    "    sc = StandardScaler()\n",
    "    column_train = sc.fit_transform(column_train.values.reshape(-1, 1))\n",
    "    column_test = sc.transform(column_test.values.reshape(-1, 1))\n",
    "    data[col] = column_train\n",
    "    test[col] = column_test"
   ]
  },
  {
   "cell_type": "code",
   "execution_count": 11,
   "metadata": {},
   "outputs": [],
   "source": [
    "normalize_column(\"hour\")"
   ]
  },
  {
   "cell_type": "code",
   "execution_count": 12,
   "metadata": {},
   "outputs": [
    {
     "data": {
      "text/plain": [
       "Index(['target', 'month', 'day', 'hour', 'minute', 'nums', 'alpha', 'small',\n",
       "       'NULL DISCOVERY ERROR', 'NULL DISCOVERY SEVERE',\n",
       "       'NULL DISCOVERY WARNING', 'NULL HARDWARE WARNING',\n",
       "       'NULL MONITOR FAILURE', 'RAS APP FATAL', 'RAS KERNEL FATAL',\n",
       "       'RAS KERNEL INFO', 'RAS LINKCARD INFO'],\n",
       "      dtype='object')"
      ]
     },
     "execution_count": 12,
     "metadata": {},
     "output_type": "execute_result"
    }
   ],
   "source": [
    "data.columns"
   ]
  },
  {
   "cell_type": "code",
   "execution_count": 13,
   "metadata": {},
   "outputs": [
    {
     "name": "stdout",
     "output_type": "stream",
     "text": [
      "month\n",
      "day\n",
      "minute\n",
      "nums\n",
      "alpha\n"
     ]
    }
   ],
   "source": [
    "cols = ['month', 'day', 'minute', 'nums', 'alpha']\n",
    "for c in cols:\n",
    "    print(c)\n",
    "    normalize_column(c)"
   ]
  },
  {
   "cell_type": "code",
   "execution_count": 14,
   "metadata": {},
   "outputs": [
    {
     "data": {
      "text/html": [
       "<div>\n",
       "<style scoped>\n",
       "    .dataframe tbody tr th:only-of-type {\n",
       "        vertical-align: middle;\n",
       "    }\n",
       "\n",
       "    .dataframe tbody tr th {\n",
       "        vertical-align: top;\n",
       "    }\n",
       "\n",
       "    .dataframe thead th {\n",
       "        text-align: right;\n",
       "    }\n",
       "</style>\n",
       "<table border=\"1\" class=\"dataframe\">\n",
       "  <thead>\n",
       "    <tr style=\"text-align: right;\">\n",
       "      <th></th>\n",
       "      <th>target</th>\n",
       "      <th>month</th>\n",
       "      <th>day</th>\n",
       "      <th>hour</th>\n",
       "      <th>minute</th>\n",
       "      <th>nums</th>\n",
       "      <th>alpha</th>\n",
       "      <th>small</th>\n",
       "      <th>NULL DISCOVERY ERROR</th>\n",
       "      <th>NULL DISCOVERY SEVERE</th>\n",
       "      <th>NULL DISCOVERY WARNING</th>\n",
       "      <th>NULL HARDWARE WARNING</th>\n",
       "      <th>NULL MONITOR FAILURE</th>\n",
       "      <th>RAS APP FATAL</th>\n",
       "      <th>RAS KERNEL FATAL</th>\n",
       "      <th>RAS KERNEL INFO</th>\n",
       "      <th>RAS LINKCARD INFO</th>\n",
       "    </tr>\n",
       "  </thead>\n",
       "  <tbody>\n",
       "    <tr>\n",
       "      <th>0</th>\n",
       "      <td>normal</td>\n",
       "      <td>1.723459</td>\n",
       "      <td>-0.194276</td>\n",
       "      <td>-0.493431</td>\n",
       "      <td>-0.239343</td>\n",
       "      <td>-0.274876</td>\n",
       "      <td>0.815973</td>\n",
       "      <td>instruction cache parity error corrected</td>\n",
       "      <td>0</td>\n",
       "      <td>0</td>\n",
       "      <td>0</td>\n",
       "      <td>0</td>\n",
       "      <td>0</td>\n",
       "      <td>0</td>\n",
       "      <td>0</td>\n",
       "      <td>1</td>\n",
       "      <td>0</td>\n",
       "    </tr>\n",
       "    <tr>\n",
       "      <th>64</th>\n",
       "      <td>normal</td>\n",
       "      <td>1.723459</td>\n",
       "      <td>-0.194276</td>\n",
       "      <td>-0.493431</td>\n",
       "      <td>0.440413</td>\n",
       "      <td>-0.274876</td>\n",
       "      <td>0.815973</td>\n",
       "      <td>instruction cache parity error corrected</td>\n",
       "      <td>0</td>\n",
       "      <td>0</td>\n",
       "      <td>0</td>\n",
       "      <td>0</td>\n",
       "      <td>0</td>\n",
       "      <td>0</td>\n",
       "      <td>0</td>\n",
       "      <td>1</td>\n",
       "      <td>0</td>\n",
       "    </tr>\n",
       "    <tr>\n",
       "      <th>249</th>\n",
       "      <td>normal</td>\n",
       "      <td>1.723459</td>\n",
       "      <td>-0.194276</td>\n",
       "      <td>-0.493431</td>\n",
       "      <td>0.181777</td>\n",
       "      <td>-0.274876</td>\n",
       "      <td>0.815973</td>\n",
       "      <td>instruction cache parity error corrected</td>\n",
       "      <td>0</td>\n",
       "      <td>0</td>\n",
       "      <td>0</td>\n",
       "      <td>0</td>\n",
       "      <td>0</td>\n",
       "      <td>0</td>\n",
       "      <td>0</td>\n",
       "      <td>1</td>\n",
       "      <td>0</td>\n",
       "    </tr>\n",
       "    <tr>\n",
       "      <th>645</th>\n",
       "      <td>normal</td>\n",
       "      <td>1.723459</td>\n",
       "      <td>-0.194276</td>\n",
       "      <td>-0.493431</td>\n",
       "      <td>1.442423</td>\n",
       "      <td>-0.274876</td>\n",
       "      <td>0.815973</td>\n",
       "      <td>instruction cache parity error corrected</td>\n",
       "      <td>0</td>\n",
       "      <td>0</td>\n",
       "      <td>0</td>\n",
       "      <td>0</td>\n",
       "      <td>0</td>\n",
       "      <td>0</td>\n",
       "      <td>0</td>\n",
       "      <td>1</td>\n",
       "      <td>0</td>\n",
       "    </tr>\n",
       "    <tr>\n",
       "      <th>1044</th>\n",
       "      <td>normal</td>\n",
       "      <td>1.723459</td>\n",
       "      <td>-0.194276</td>\n",
       "      <td>-0.493431</td>\n",
       "      <td>-0.067310</td>\n",
       "      <td>-0.274876</td>\n",
       "      <td>0.815973</td>\n",
       "      <td>instruction cache parity error corrected</td>\n",
       "      <td>0</td>\n",
       "      <td>0</td>\n",
       "      <td>0</td>\n",
       "      <td>0</td>\n",
       "      <td>0</td>\n",
       "      <td>0</td>\n",
       "      <td>0</td>\n",
       "      <td>1</td>\n",
       "      <td>0</td>\n",
       "    </tr>\n",
       "  </tbody>\n",
       "</table>\n",
       "</div>"
      ],
      "text/plain": [
       "      target     month       day      hour    minute      nums     alpha  \\\n",
       "0     normal  1.723459 -0.194276 -0.493431 -0.239343 -0.274876  0.815973   \n",
       "64    normal  1.723459 -0.194276 -0.493431  0.440413 -0.274876  0.815973   \n",
       "249   normal  1.723459 -0.194276 -0.493431  0.181777 -0.274876  0.815973   \n",
       "645   normal  1.723459 -0.194276 -0.493431  1.442423 -0.274876  0.815973   \n",
       "1044  normal  1.723459 -0.194276 -0.493431 -0.067310 -0.274876  0.815973   \n",
       "\n",
       "                                         small  NULL DISCOVERY ERROR  \\\n",
       "0     instruction cache parity error corrected                     0   \n",
       "64    instruction cache parity error corrected                     0   \n",
       "249   instruction cache parity error corrected                     0   \n",
       "645   instruction cache parity error corrected                     0   \n",
       "1044  instruction cache parity error corrected                     0   \n",
       "\n",
       "      NULL DISCOVERY SEVERE  NULL DISCOVERY WARNING  NULL HARDWARE WARNING  \\\n",
       "0                         0                       0                      0   \n",
       "64                        0                       0                      0   \n",
       "249                       0                       0                      0   \n",
       "645                       0                       0                      0   \n",
       "1044                      0                       0                      0   \n",
       "\n",
       "      NULL MONITOR FAILURE  RAS APP FATAL  RAS KERNEL FATAL  RAS KERNEL INFO  \\\n",
       "0                        0              0                 0                1   \n",
       "64                       0              0                 0                1   \n",
       "249                      0              0                 0                1   \n",
       "645                      0              0                 0                1   \n",
       "1044                     0              0                 0                1   \n",
       "\n",
       "      RAS LINKCARD INFO  \n",
       "0                     0  \n",
       "64                    0  \n",
       "249                   0  \n",
       "645                   0  \n",
       "1044                  0  "
      ]
     },
     "execution_count": 14,
     "metadata": {},
     "output_type": "execute_result"
    }
   ],
   "source": [
    "data.head()"
   ]
  },
  {
   "cell_type": "code",
   "execution_count": 15,
   "metadata": {},
   "outputs": [
    {
     "data": {
      "text/html": [
       "<div>\n",
       "<style scoped>\n",
       "    .dataframe tbody tr th:only-of-type {\n",
       "        vertical-align: middle;\n",
       "    }\n",
       "\n",
       "    .dataframe tbody tr th {\n",
       "        vertical-align: top;\n",
       "    }\n",
       "\n",
       "    .dataframe thead th {\n",
       "        text-align: right;\n",
       "    }\n",
       "</style>\n",
       "<table border=\"1\" class=\"dataframe\">\n",
       "  <thead>\n",
       "    <tr style=\"text-align: right;\">\n",
       "      <th></th>\n",
       "      <th>ID</th>\n",
       "      <th>month</th>\n",
       "      <th>day</th>\n",
       "      <th>hour</th>\n",
       "      <th>minute</th>\n",
       "      <th>nums</th>\n",
       "      <th>alpha</th>\n",
       "      <th>small</th>\n",
       "      <th>NULL DISCOVERY ERROR</th>\n",
       "      <th>NULL DISCOVERY SEVERE</th>\n",
       "      <th>NULL DISCOVERY WARNING</th>\n",
       "      <th>NULL HARDWARE WARNING</th>\n",
       "      <th>NULL MONITOR FAILURE</th>\n",
       "      <th>RAS APP FATAL</th>\n",
       "      <th>RAS KERNEL FATAL</th>\n",
       "      <th>RAS KERNEL INFO</th>\n",
       "      <th>RAS LINKCARD INFO</th>\n",
       "    </tr>\n",
       "  </thead>\n",
       "  <tbody>\n",
       "    <tr>\n",
       "      <th>0</th>\n",
       "      <td>0</td>\n",
       "      <td>-0.580228</td>\n",
       "      <td>-0.194276</td>\n",
       "      <td>8.092905</td>\n",
       "      <td>85.952783</td>\n",
       "      <td>-0.126736</td>\n",
       "      <td>51.461902</td>\n",
       "      <td>rts: kernel terminated for reason 1001</td>\n",
       "      <td>0</td>\n",
       "      <td>0</td>\n",
       "      <td>0</td>\n",
       "      <td>0</td>\n",
       "      <td>0</td>\n",
       "      <td>0</td>\n",
       "      <td>1</td>\n",
       "      <td>0</td>\n",
       "      <td>0</td>\n",
       "    </tr>\n",
       "    <tr>\n",
       "      <th>1</th>\n",
       "      <td>1</td>\n",
       "      <td>58.016633</td>\n",
       "      <td>136.247422</td>\n",
       "      <td>-0.493431</td>\n",
       "      <td>61.763226</td>\n",
       "      <td>100.112788</td>\n",
       "      <td>51.461902</td>\n",
       "      <td>data TLB error interrupt</td>\n",
       "      <td>0</td>\n",
       "      <td>0</td>\n",
       "      <td>0</td>\n",
       "      <td>0</td>\n",
       "      <td>0</td>\n",
       "      <td>0</td>\n",
       "      <td>1</td>\n",
       "      <td>0</td>\n",
       "      <td>0</td>\n",
       "    </tr>\n",
       "    <tr>\n",
       "      <th>2</th>\n",
       "      <td>2</td>\n",
       "      <td>58.016633</td>\n",
       "      <td>136.247422</td>\n",
       "      <td>36.363334</td>\n",
       "      <td>88.436575</td>\n",
       "      <td>100.112788</td>\n",
       "      <td>51.461902</td>\n",
       "      <td>data TLB error interrupt</td>\n",
       "      <td>0</td>\n",
       "      <td>0</td>\n",
       "      <td>0</td>\n",
       "      <td>0</td>\n",
       "      <td>0</td>\n",
       "      <td>0</td>\n",
       "      <td>1</td>\n",
       "      <td>0</td>\n",
       "      <td>0</td>\n",
       "    </tr>\n",
       "    <tr>\n",
       "      <th>3</th>\n",
       "      <td>3</td>\n",
       "      <td>58.016633</td>\n",
       "      <td>-0.027628</td>\n",
       "      <td>-0.465753</td>\n",
       "      <td>81.336313</td>\n",
       "      <td>100.112788</td>\n",
       "      <td>51.461902</td>\n",
       "      <td>generating core.6463</td>\n",
       "      <td>0</td>\n",
       "      <td>0</td>\n",
       "      <td>0</td>\n",
       "      <td>0</td>\n",
       "      <td>0</td>\n",
       "      <td>0</td>\n",
       "      <td>0</td>\n",
       "      <td>1</td>\n",
       "      <td>0</td>\n",
       "    </tr>\n",
       "    <tr>\n",
       "      <th>4</th>\n",
       "      <td>4</td>\n",
       "      <td>58.016633</td>\n",
       "      <td>136.247422</td>\n",
       "      <td>66.282540</td>\n",
       "      <td>62.593698</td>\n",
       "      <td>100.112788</td>\n",
       "      <td>51.461902</td>\n",
       "      <td>data TLB error interrupt</td>\n",
       "      <td>0</td>\n",
       "      <td>0</td>\n",
       "      <td>0</td>\n",
       "      <td>0</td>\n",
       "      <td>0</td>\n",
       "      <td>0</td>\n",
       "      <td>1</td>\n",
       "      <td>0</td>\n",
       "      <td>0</td>\n",
       "    </tr>\n",
       "  </tbody>\n",
       "</table>\n",
       "</div>"
      ],
      "text/plain": [
       "   ID      month         day       hour     minute        nums      alpha  \\\n",
       "0   0  -0.580228   -0.194276   8.092905  85.952783   -0.126736  51.461902   \n",
       "1   1  58.016633  136.247422  -0.493431  61.763226  100.112788  51.461902   \n",
       "2   2  58.016633  136.247422  36.363334  88.436575  100.112788  51.461902   \n",
       "3   3  58.016633   -0.027628  -0.465753  81.336313  100.112788  51.461902   \n",
       "4   4  58.016633  136.247422  66.282540  62.593698  100.112788  51.461902   \n",
       "\n",
       "                                    small  NULL DISCOVERY ERROR  \\\n",
       "0  rts: kernel terminated for reason 1001                     0   \n",
       "1                data TLB error interrupt                     0   \n",
       "2                data TLB error interrupt                     0   \n",
       "3                    generating core.6463                     0   \n",
       "4                data TLB error interrupt                     0   \n",
       "\n",
       "   NULL DISCOVERY SEVERE  NULL DISCOVERY WARNING  NULL HARDWARE WARNING  \\\n",
       "0                      0                       0                      0   \n",
       "1                      0                       0                      0   \n",
       "2                      0                       0                      0   \n",
       "3                      0                       0                      0   \n",
       "4                      0                       0                      0   \n",
       "\n",
       "   NULL MONITOR FAILURE  RAS APP FATAL  RAS KERNEL FATAL  RAS KERNEL INFO  \\\n",
       "0                     0              0                 1                0   \n",
       "1                     0              0                 1                0   \n",
       "2                     0              0                 1                0   \n",
       "3                     0              0                 0                1   \n",
       "4                     0              0                 1                0   \n",
       "\n",
       "   RAS LINKCARD INFO  \n",
       "0                  0  \n",
       "1                  0  \n",
       "2                  0  \n",
       "3                  0  \n",
       "4                  0  "
      ]
     },
     "execution_count": 15,
     "metadata": {},
     "output_type": "execute_result"
    }
   ],
   "source": [
    "test.head()"
   ]
  },
  {
   "cell_type": "code",
   "execution_count": 16,
   "metadata": {},
   "outputs": [],
   "source": [
    "target = data[\"target\"]\n",
    "data.drop([\"target\"], axis=1, inplace=True)\n",
    "test_ID = test[\"ID\"]\n",
    "test.drop([\"ID\"], axis=1, inplace=True)"
   ]
  },
  {
   "cell_type": "code",
   "execution_count": 17,
   "metadata": {},
   "outputs": [],
   "source": [
    "X_train, X_test, y_train, y_test = train_test_split(data, target, test_size=0.2, random_state=42, stratify=target)"
   ]
  },
  {
   "cell_type": "code",
   "execution_count": 18,
   "metadata": {},
   "outputs": [
    {
     "data": {
      "text/plain": [
       "(1654936, 413735)"
      ]
     },
     "execution_count": 18,
     "metadata": {},
     "output_type": "execute_result"
    }
   ],
   "source": [
    "len(X_train), len(X_test)"
   ]
  },
  {
   "cell_type": "code",
   "execution_count": 19,
   "metadata": {},
   "outputs": [],
   "source": [
    "train_small = X_train[\"small\"]\n",
    "X_train.drop([\"small\"], axis=1, inplace=True)\n",
    "\n",
    "test_small = X_test[\"small\"]\n",
    "X_test.drop([\"small\"], axis=1, inplace=True)\n",
    "\n",
    "test_final_small = test[\"small\"]\n",
    "test.drop([\"small\"], axis=1, inplace=True)"
   ]
  },
  {
   "cell_type": "code",
   "execution_count": 20,
   "metadata": {},
   "outputs": [
    {
     "data": {
      "text/plain": [
       "array([ True,  True,  True,  True,  True,  True,  True,  True,  True,\n",
       "        True,  True,  True,  True,  True,  True])"
      ]
     },
     "execution_count": 20,
     "metadata": {},
     "output_type": "execute_result"
    }
   ],
   "source": [
    "X_train.columns == test.columns"
   ]
  },
  {
   "attachments": {},
   "cell_type": "markdown",
   "metadata": {},
   "source": [
    "## Dealing With `small` Column"
   ]
  },
  {
   "cell_type": "code",
   "execution_count": null,
   "metadata": {},
   "outputs": [],
   "source": [
    "train_small_tf = tf.convert_to_tensor(train_small.values.reshape(-1, 1))\n",
    "test_small_tf = tf.convert_to_tensor(test_small.values.reshape(-1, 1))\n",
    "test_final_small_tf = tf.convert_to_tensor(test_final_small.values.reshape(-1, 1))\n",
    "\n"
   ]
  },
  {
   "cell_type": "code",
   "execution_count": 25,
   "metadata": {},
   "outputs": [
    {
     "name": "stdout",
     "output_type": "stream",
     "text": [
      "WARNING:tensorflow:Please fix your imports. Module tensorflow.python.training.tracking.data_structures has been moved to tensorflow.python.trackable.data_structures. The old module will be deleted in version 2.11.\n"
     ]
    },
    {
     "name": "stderr",
     "output_type": "stream",
     "text": [
      "2022-12-20 18:47:14.517139: W tensorflow/tsl/framework/cpu_allocator_impl.cc:82] Allocation of 34133760 exceeds 10% of free system memory.\n",
      "2022-12-20 18:47:14.577895: W tensorflow/tsl/framework/cpu_allocator_impl.cc:82] Allocation of 34133760 exceeds 10% of free system memory.\n",
      "2022-12-20 18:47:14.664863: W tensorflow/tsl/framework/cpu_allocator_impl.cc:82] Allocation of 34133760 exceeds 10% of free system memory.\n",
      "2022-12-20 18:47:14.759346: W tensorflow/tsl/framework/cpu_allocator_impl.cc:82] Allocation of 34133760 exceeds 10% of free system memory.\n",
      "2022-12-20 18:47:14.854790: W tensorflow/tsl/framework/cpu_allocator_impl.cc:82] Allocation of 34133760 exceeds 10% of free system memory.\n"
     ]
    }
   ],
   "source": [
    "import tensorflow_hub as hub\n",
    "# We can use this encoding layer in place of our text_vectorizer and embedding layer\n",
    "sentence_encoder_layer = hub.KerasLayer(\"https://tfhub.dev/google/universal-sentence-encoder/4\",\n",
    "                                        input_shape=[], # shape of inputs coming to our model \n",
    "                                        dtype=tf.string, # data type of inputs coming to the USE layer\n",
    "                                        trainable=False, # keep the pretrained weights (we'll create a feature extractor)\n",
    "                                        name=\"USE\") "
   ]
  },
  {
   "cell_type": "code",
   "execution_count": 26,
   "metadata": {},
   "outputs": [
    {
     "name": "stdout",
     "output_type": "stream",
     "text": [
      "WARNING:tensorflow:From /home/hari31416/anaconda3/envs/data-science/lib/python3.9/site-packages/tensorflow/python/autograph/pyct/static_analysis/liveness.py:83: Analyzer.lamba_check (from tensorflow.python.autograph.pyct.static_analysis.liveness) is deprecated and will be removed after 2023-09-23.\n",
      "Instructions for updating:\n",
      "Lambda fuctions will be no more assumed to be used in the statement where they are used, or at least in the same block. https://github.com/tensorflow/tensorflow/issues/56089\n"
     ]
    },
    {
     "name": "stderr",
     "output_type": "stream",
     "text": [
      "WARNING:tensorflow:From /home/hari31416/anaconda3/envs/data-science/lib/python3.9/site-packages/tensorflow/python/autograph/pyct/static_analysis/liveness.py:83: Analyzer.lamba_check (from tensorflow.python.autograph.pyct.static_analysis.liveness) is deprecated and will be removed after 2023-09-23.\n",
      "Instructions for updating:\n",
      "Lambda fuctions will be no more assumed to be used in the statement where they are used, or at least in the same block. https://github.com/tensorflow/tensorflow/issues/56089\n"
     ]
    }
   ],
   "source": [
    "normalize = Sequential([\n",
    "    sentence_encoder_layer, # take in sentences and then encode them into an embedding\n",
    "  tfl.Reshape((64, 8), input_shape=(512,)),\n",
    "  tfl.Resizing(1,8),\n",
    "    tfl.Flatten(),\n",
    "])"
   ]
  },
  {
   "cell_type": "code",
   "execution_count": 27,
   "metadata": {},
   "outputs": [
    {
     "name": "stdout",
     "output_type": "stream",
     "text": [
      "Model: \"sequential\"\n",
      "_________________________________________________________________\n",
      " Layer (type)                Output Shape              Param #   \n",
      "=================================================================\n",
      " USE (KerasLayer)            (None, 512)               256797824 \n",
      "                                                                 \n",
      " reshape (Reshape)           (None, 64, 8)             0         \n",
      "                                                                 \n",
      " resizing (Resizing)         (1, 8, 8)                 0         \n",
      "                                                                 \n",
      " flatten (Flatten)           (1, 64)                   0         \n",
      "                                                                 \n",
      "=================================================================\n",
      "Total params: 256,797,824\n",
      "Trainable params: 0\n",
      "Non-trainable params: 256,797,824\n",
      "_________________________________________________________________\n"
     ]
    }
   ],
   "source": [
    "normalize.summary()"
   ]
  },
  {
   "cell_type": "code",
   "execution_count": 29,
   "metadata": {},
   "outputs": [
    {
     "ename": "",
     "evalue": "",
     "output_type": "error",
     "traceback": [
      "\u001b[1;31mThe Kernel crashed while executing code in the the current cell or a previous cell. Please review the code in the cell(s) to identify a possible cause of the failure. Click <a href='https://aka.ms/vscodeJupyterKernelCrash'>here</a> for more info. View Jupyter <a href='command:jupyter.viewOutput'>log</a> for further details."
     ]
    },
    {
     "ename": "",
     "evalue": "",
     "output_type": "error",
     "traceback": [
      "\u001b[1;31mCanceled future for execute_request message before replies were done"
     ]
    }
   ],
   "source": [
    "train_small_tf_f = normalize(train_small_tf)"
   ]
  },
  {
   "cell_type": "code",
   "execution_count": null,
   "metadata": {},
   "outputs": [],
   "source": []
  }
 ],
 "metadata": {
  "kernelspec": {
   "display_name": "data-science",
   "language": "python",
   "name": "python3"
  },
  "language_info": {
   "codemirror_mode": {
    "name": "ipython",
    "version": 3
   },
   "file_extension": ".py",
   "mimetype": "text/x-python",
   "name": "python",
   "nbconvert_exporter": "python",
   "pygments_lexer": "ipython3",
   "version": "3.9.15"
  },
  "orig_nbformat": 4,
  "vscode": {
   "interpreter": {
    "hash": "2efee1efa502125d01e6b4768ba06d9453d29f3642bfd14ad5d4a769de82e88c"
   }
  }
 },
 "nbformat": 4,
 "nbformat_minor": 2
}
