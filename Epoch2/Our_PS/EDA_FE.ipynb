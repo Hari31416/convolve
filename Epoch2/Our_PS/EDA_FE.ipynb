{
 "cells": [
  {
   "cell_type": "code",
   "execution_count": 20,
   "metadata": {},
   "outputs": [],
   "source": [
    "import pandas as pd\n",
    "import numpy as np\n",
    "import matplotlib.pyplot as plt\n",
    "import os\n",
    "import seaborn as sns"
   ]
  },
  {
   "cell_type": "code",
   "execution_count": 21,
   "metadata": {},
   "outputs": [],
   "source": [
    "plt.rcParams['figure.figsize'] = [10, 6]"
   ]
  },
  {
   "cell_type": "code",
   "execution_count": 22,
   "metadata": {},
   "outputs": [
    {
     "data": {
      "text/html": [
       "<div>\n",
       "<style scoped>\n",
       "    .dataframe tbody tr th:only-of-type {\n",
       "        vertical-align: middle;\n",
       "    }\n",
       "\n",
       "    .dataframe tbody tr th {\n",
       "        vertical-align: top;\n",
       "    }\n",
       "\n",
       "    .dataframe thead th {\n",
       "        text-align: right;\n",
       "    }\n",
       "</style>\n",
       "<table border=\"1\" class=\"dataframe\">\n",
       "  <thead>\n",
       "    <tr style=\"text-align: right;\">\n",
       "      <th></th>\n",
       "      <th>Unit</th>\n",
       "      <th>Family</th>\n",
       "      <th>PLID</th>\n",
       "      <th>Quarter</th>\n",
       "      <th>Month</th>\n",
       "      <th>Quantity</th>\n",
       "      <th>Date</th>\n",
       "    </tr>\n",
       "  </thead>\n",
       "  <tbody>\n",
       "    <tr>\n",
       "      <th>0</th>\n",
       "      <td>CSWBU</td>\n",
       "      <td>CBR8</td>\n",
       "      <td>CBR-D121-DS-MOD</td>\n",
       "      <td>Q1 FY2022</td>\n",
       "      <td>AUG FY2022</td>\n",
       "      <td>204</td>\n",
       "      <td>2016-01-08</td>\n",
       "    </tr>\n",
       "    <tr>\n",
       "      <th>1</th>\n",
       "      <td>CSWBU</td>\n",
       "      <td>CBR8</td>\n",
       "      <td>CBR-D121-DS-MOD</td>\n",
       "      <td>Q1 FY2022</td>\n",
       "      <td>OCT FY2022</td>\n",
       "      <td>564</td>\n",
       "      <td>2016-01-10</td>\n",
       "    </tr>\n",
       "    <tr>\n",
       "      <th>2</th>\n",
       "      <td>CSWBU</td>\n",
       "      <td>CBR8</td>\n",
       "      <td>CBR-D121-DS-MOD</td>\n",
       "      <td>Q1 FY2022</td>\n",
       "      <td>SEP FY2022</td>\n",
       "      <td>1476</td>\n",
       "      <td>2016-01-09</td>\n",
       "    </tr>\n",
       "    <tr>\n",
       "      <th>3</th>\n",
       "      <td>CSWBU</td>\n",
       "      <td>CBR8</td>\n",
       "      <td>CBR-D121-DS-MOD</td>\n",
       "      <td>Q1 FY2002</td>\n",
       "      <td>AUG FY2002</td>\n",
       "      <td>374</td>\n",
       "      <td>2017-01-08</td>\n",
       "    </tr>\n",
       "    <tr>\n",
       "      <th>4</th>\n",
       "      <td>CSWBU</td>\n",
       "      <td>CBR8</td>\n",
       "      <td>CBR-D121-DS-MOD</td>\n",
       "      <td>Q1 FY2002</td>\n",
       "      <td>OCT FY2002</td>\n",
       "      <td>6094</td>\n",
       "      <td>2017-01-10</td>\n",
       "    </tr>\n",
       "    <tr>\n",
       "      <th>...</th>\n",
       "      <td>...</td>\n",
       "      <td>...</td>\n",
       "      <td>...</td>\n",
       "      <td>...</td>\n",
       "      <td>...</td>\n",
       "      <td>...</td>\n",
       "      <td>...</td>\n",
       "    </tr>\n",
       "    <tr>\n",
       "      <th>10857</th>\n",
       "      <td>RTOBU</td>\n",
       "      <td>C980040</td>\n",
       "      <td>C9800-40-K9</td>\n",
       "      <td>Q4 FY2011</td>\n",
       "      <td>JUN FY2011</td>\n",
       "      <td>229</td>\n",
       "      <td>2020-01-06</td>\n",
       "    </tr>\n",
       "    <tr>\n",
       "      <th>10858</th>\n",
       "      <td>RTOBU</td>\n",
       "      <td>C980040</td>\n",
       "      <td>C9800-40-K9</td>\n",
       "      <td>Q4 FY2011</td>\n",
       "      <td>MAY FY2011</td>\n",
       "      <td>289</td>\n",
       "      <td>2020-01-05</td>\n",
       "    </tr>\n",
       "    <tr>\n",
       "      <th>10859</th>\n",
       "      <td>RTOBU</td>\n",
       "      <td>C980040</td>\n",
       "      <td>C9800-40-K9</td>\n",
       "      <td>Q4 FY2012</td>\n",
       "      <td>JUL FY2012</td>\n",
       "      <td>1231</td>\n",
       "      <td>2021-01-07</td>\n",
       "    </tr>\n",
       "    <tr>\n",
       "      <th>10860</th>\n",
       "      <td>RTOBU</td>\n",
       "      <td>C980040</td>\n",
       "      <td>C9800-40-K9</td>\n",
       "      <td>Q4 FY2012</td>\n",
       "      <td>JUN FY2012</td>\n",
       "      <td>591</td>\n",
       "      <td>2021-01-06</td>\n",
       "    </tr>\n",
       "    <tr>\n",
       "      <th>10861</th>\n",
       "      <td>RTOBU</td>\n",
       "      <td>C980040</td>\n",
       "      <td>C9800-40-K9</td>\n",
       "      <td>Q4 FY2012</td>\n",
       "      <td>MAY FY2012</td>\n",
       "      <td>601</td>\n",
       "      <td>2021-01-05</td>\n",
       "    </tr>\n",
       "  </tbody>\n",
       "</table>\n",
       "<p>10862 rows × 7 columns</p>\n",
       "</div>"
      ],
      "text/plain": [
       "        Unit   Family             PLID    Quarter       Month  Quantity  \\\n",
       "0      CSWBU     CBR8  CBR-D121-DS-MOD  Q1 FY2022  AUG FY2022       204   \n",
       "1      CSWBU     CBR8  CBR-D121-DS-MOD  Q1 FY2022  OCT FY2022       564   \n",
       "2      CSWBU     CBR8  CBR-D121-DS-MOD  Q1 FY2022  SEP FY2022      1476   \n",
       "3      CSWBU     CBR8  CBR-D121-DS-MOD  Q1 FY2002  AUG FY2002       374   \n",
       "4      CSWBU     CBR8  CBR-D121-DS-MOD  Q1 FY2002  OCT FY2002      6094   \n",
       "...      ...      ...              ...        ...         ...       ...   \n",
       "10857  RTOBU  C980040      C9800-40-K9  Q4 FY2011  JUN FY2011       229   \n",
       "10858  RTOBU  C980040      C9800-40-K9  Q4 FY2011  MAY FY2011       289   \n",
       "10859  RTOBU  C980040      C9800-40-K9  Q4 FY2012  JUL FY2012      1231   \n",
       "10860  RTOBU  C980040      C9800-40-K9  Q4 FY2012  JUN FY2012       591   \n",
       "10861  RTOBU  C980040      C9800-40-K9  Q4 FY2012  MAY FY2012       601   \n",
       "\n",
       "            Date  \n",
       "0     2016-01-08  \n",
       "1     2016-01-10  \n",
       "2     2016-01-09  \n",
       "3     2017-01-08  \n",
       "4     2017-01-10  \n",
       "...          ...  \n",
       "10857 2020-01-06  \n",
       "10858 2020-01-05  \n",
       "10859 2021-01-07  \n",
       "10860 2021-01-06  \n",
       "10861 2021-01-05  \n",
       "\n",
       "[10862 rows x 7 columns]"
      ]
     },
     "execution_count": 22,
     "metadata": {},
     "output_type": "execute_result"
    }
   ],
   "source": [
    "df = pd.read_csv(\"train_set.csv\",  parse_dates=['Date'])\n",
    "df"
   ]
  },
  {
   "cell_type": "code",
   "execution_count": 23,
   "metadata": {},
   "outputs": [
    {
     "name": "stdout",
     "output_type": "stream",
     "text": [
      "<class 'pandas.core.frame.DataFrame'>\n",
      "RangeIndex: 10862 entries, 0 to 10861\n",
      "Data columns (total 7 columns):\n",
      " #   Column    Non-Null Count  Dtype         \n",
      "---  ------    --------------  -----         \n",
      " 0   Unit      10862 non-null  object        \n",
      " 1   Family    10862 non-null  object        \n",
      " 2   PLID      10862 non-null  object        \n",
      " 3   Quarter   10862 non-null  object        \n",
      " 4   Month     10862 non-null  object        \n",
      " 5   Quantity  10862 non-null  int64         \n",
      " 6   Date      10862 non-null  datetime64[ns]\n",
      "dtypes: datetime64[ns](1), int64(1), object(5)\n",
      "memory usage: 594.1+ KB\n"
     ]
    }
   ],
   "source": [
    "df.info()"
   ]
  },
  {
   "cell_type": "code",
   "execution_count": 29,
   "metadata": {},
   "outputs": [
    {
     "name": "stdout",
     "output_type": "stream",
     "text": [
      "<class 'pandas.core.frame.DataFrame'>\n",
      "RangeIndex: 10862 entries, 0 to 10861\n",
      "Data columns (total 7 columns):\n",
      " #   Column    Non-Null Count  Dtype         \n",
      "---  ------    --------------  -----         \n",
      " 0   Unit      10862 non-null  object        \n",
      " 1   Family    10862 non-null  object        \n",
      " 2   PLID      10862 non-null  object        \n",
      " 3   Quarter   10862 non-null  object        \n",
      " 4   Month     10862 non-null  object        \n",
      " 5   Quantity  10862 non-null  int64         \n",
      " 6   Date      10862 non-null  datetime64[ns]\n",
      "dtypes: datetime64[ns](1), int64(1), object(5)\n",
      "memory usage: 594.1+ KB\n"
     ]
    }
   ],
   "source": [
    "df_old = pd.read_csv(\"train_set.csv\",  parse_dates=['Date'])\n",
    "df_old.info()"
   ]
  },
  {
   "cell_type": "code",
   "execution_count": 33,
   "metadata": {},
   "outputs": [
    {
     "data": {
      "text/plain": [
       "10338    Q4 FY2015\n",
       "10431    Q4 FY2015\n",
       "4448     Q4 FY2015\n",
       "4447     Q4 FY2015\n",
       "4446     Q4 FY2015\n",
       "           ...    \n",
       "7546     Q1 FY2002\n",
       "7547     Q1 FY2002\n",
       "7548     Q1 FY2002\n",
       "5699     Q1 FY2002\n",
       "4676     Q1 FY2002\n",
       "Name: Quarter, Length: 10862, dtype: object"
      ]
     },
     "execution_count": 33,
     "metadata": {},
     "output_type": "execute_result"
    }
   ],
   "source": [
    "df_old[\"Quarter\"].sort_values(ascending=False)"
   ]
  },
  {
   "cell_type": "code",
   "execution_count": 34,
   "metadata": {},
   "outputs": [
    {
     "data": {
      "text/html": [
       "<div>\n",
       "<style scoped>\n",
       "    .dataframe tbody tr th:only-of-type {\n",
       "        vertical-align: middle;\n",
       "    }\n",
       "\n",
       "    .dataframe tbody tr th {\n",
       "        vertical-align: top;\n",
       "    }\n",
       "\n",
       "    .dataframe thead th {\n",
       "        text-align: right;\n",
       "    }\n",
       "</style>\n",
       "<table border=\"1\" class=\"dataframe\">\n",
       "  <thead>\n",
       "    <tr style=\"text-align: right;\">\n",
       "      <th></th>\n",
       "      <th>Unit</th>\n",
       "      <th>Family</th>\n",
       "      <th>PLID</th>\n",
       "      <th>Quarter</th>\n",
       "      <th>Month</th>\n",
       "      <th>Quantity</th>\n",
       "      <th>Date</th>\n",
       "    </tr>\n",
       "  </thead>\n",
       "  <tbody>\n",
       "  </tbody>\n",
       "</table>\n",
       "</div>"
      ],
      "text/plain": [
       "Empty DataFrame\n",
       "Columns: [Unit, Family, PLID, Quarter, Month, Quantity, Date]\n",
       "Index: []"
      ]
     },
     "execution_count": 34,
     "metadata": {},
     "output_type": "execute_result"
    }
   ],
   "source": [
    "df_old[df_old[\"Quarter\"]==\"Q4 FY2022\"]"
   ]
  },
  {
   "cell_type": "code",
   "execution_count": 24,
   "metadata": {},
   "outputs": [
    {
     "name": "stdout",
     "output_type": "stream",
     "text": [
      "<class 'pandas.core.frame.DataFrame'>\n",
      "Index: 0 entries\n",
      "Data columns (total 7 columns):\n",
      " #   Column    Non-Null Count  Dtype         \n",
      "---  ------    --------------  -----         \n",
      " 0   Unit      0 non-null      object        \n",
      " 1   Family    0 non-null      object        \n",
      " 2   PLID      0 non-null      object        \n",
      " 3   Quarter   0 non-null      object        \n",
      " 4   Month     0 non-null      object        \n",
      " 5   Quantity  0 non-null      object        \n",
      " 6   Date      0 non-null      datetime64[ns]\n",
      "dtypes: datetime64[ns](1), object(6)\n",
      "memory usage: 0.0+ bytes\n"
     ]
    }
   ],
   "source": [
    "validation_set = pd.read_csv(\"validation_set.csv\",  parse_dates=['Date'])\n",
    "validation_set[\"Date\"] = pd.to_datetime(validation_set[\"Date\"])\n",
    "validation_set.info()"
   ]
  },
  {
   "cell_type": "code",
   "execution_count": 25,
   "metadata": {},
   "outputs": [
    {
     "data": {
      "text/plain": [
       "250"
      ]
     },
     "execution_count": 25,
     "metadata": {},
     "output_type": "execute_result"
    }
   ],
   "source": [
    "df[\"PLID\"].nunique()"
   ]
  },
  {
   "cell_type": "code",
   "execution_count": 26,
   "metadata": {},
   "outputs": [
    {
     "data": {
      "text/html": [
       "<div>\n",
       "<style scoped>\n",
       "    .dataframe tbody tr th:only-of-type {\n",
       "        vertical-align: middle;\n",
       "    }\n",
       "\n",
       "    .dataframe tbody tr th {\n",
       "        vertical-align: top;\n",
       "    }\n",
       "\n",
       "    .dataframe thead th {\n",
       "        text-align: right;\n",
       "    }\n",
       "</style>\n",
       "<table border=\"1\" class=\"dataframe\">\n",
       "  <thead>\n",
       "    <tr style=\"text-align: right;\">\n",
       "      <th></th>\n",
       "      <th>Unit</th>\n",
       "      <th>Family</th>\n",
       "      <th>PLID</th>\n",
       "      <th>Quarter</th>\n",
       "      <th>Month</th>\n",
       "      <th>Quantity</th>\n",
       "      <th>Date</th>\n",
       "    </tr>\n",
       "  </thead>\n",
       "  <tbody>\n",
       "    <tr>\n",
       "      <th>0</th>\n",
       "      <td>CSWBU</td>\n",
       "      <td>CBR8</td>\n",
       "      <td>CBR-D121-DS-MOD</td>\n",
       "      <td>Q1 FY2022</td>\n",
       "      <td>AUG FY2022</td>\n",
       "      <td>204</td>\n",
       "      <td>2016-01-08</td>\n",
       "    </tr>\n",
       "    <tr>\n",
       "      <th>1</th>\n",
       "      <td>CSWBU</td>\n",
       "      <td>CBR8</td>\n",
       "      <td>CBR-D121-DS-MOD</td>\n",
       "      <td>Q1 FY2022</td>\n",
       "      <td>OCT FY2022</td>\n",
       "      <td>564</td>\n",
       "      <td>2016-01-10</td>\n",
       "    </tr>\n",
       "    <tr>\n",
       "      <th>2</th>\n",
       "      <td>CSWBU</td>\n",
       "      <td>CBR8</td>\n",
       "      <td>CBR-D121-DS-MOD</td>\n",
       "      <td>Q1 FY2022</td>\n",
       "      <td>SEP FY2022</td>\n",
       "      <td>1476</td>\n",
       "      <td>2016-01-09</td>\n",
       "    </tr>\n",
       "    <tr>\n",
       "      <th>18</th>\n",
       "      <td>CSWBU</td>\n",
       "      <td>CBR8</td>\n",
       "      <td>CBR-D121-DS-MOD</td>\n",
       "      <td>Q1 FY2022</td>\n",
       "      <td>AUG FY2022</td>\n",
       "      <td>641</td>\n",
       "      <td>2022-01-08</td>\n",
       "    </tr>\n",
       "    <tr>\n",
       "      <th>19</th>\n",
       "      <td>CSWBU</td>\n",
       "      <td>CBR8</td>\n",
       "      <td>CBR-D121-DS-MOD</td>\n",
       "      <td>Q1 FY2022</td>\n",
       "      <td>OCT FY2022</td>\n",
       "      <td>530</td>\n",
       "      <td>2022-01-10</td>\n",
       "    </tr>\n",
       "    <tr>\n",
       "      <th>20</th>\n",
       "      <td>CSWBU</td>\n",
       "      <td>CBR8</td>\n",
       "      <td>CBR-D121-DS-MOD</td>\n",
       "      <td>Q1 FY2022</td>\n",
       "      <td>SEP FY2022</td>\n",
       "      <td>291</td>\n",
       "      <td>2022-01-09</td>\n",
       "    </tr>\n",
       "  </tbody>\n",
       "</table>\n",
       "</div>"
      ],
      "text/plain": [
       "     Unit Family             PLID    Quarter       Month  Quantity       Date\n",
       "0   CSWBU   CBR8  CBR-D121-DS-MOD  Q1 FY2022  AUG FY2022       204 2016-01-08\n",
       "1   CSWBU   CBR8  CBR-D121-DS-MOD  Q1 FY2022  OCT FY2022       564 2016-01-10\n",
       "2   CSWBU   CBR8  CBR-D121-DS-MOD  Q1 FY2022  SEP FY2022      1476 2016-01-09\n",
       "18  CSWBU   CBR8  CBR-D121-DS-MOD  Q1 FY2022  AUG FY2022       641 2022-01-08\n",
       "19  CSWBU   CBR8  CBR-D121-DS-MOD  Q1 FY2022  OCT FY2022       530 2022-01-10\n",
       "20  CSWBU   CBR8  CBR-D121-DS-MOD  Q1 FY2022  SEP FY2022       291 2022-01-09"
      ]
     },
     "execution_count": 26,
     "metadata": {},
     "output_type": "execute_result"
    }
   ],
   "source": [
    "df[(df[\"PLID\"] == \"CBR-D121-DS-MOD\")&(df[\"Quarter\"]==\"Q1 FY2022\")]"
   ]
  },
  {
   "cell_type": "code",
   "execution_count": 27,
   "metadata": {},
   "outputs": [
    {
     "data": {
      "text/plain": [
       "<AxesSubplot: ylabel='Count'>"
      ]
     },
     "execution_count": 27,
     "metadata": {},
     "output_type": "execute_result"
    },
    {
     "data": {
      "application/vnd.jupyter.widget-view+json": {
       "model_id": "2fa807f2045f45149faaf9d781484e6f",
       "version_major": 2,
       "version_minor": 0
      },
      "image/png": "[encoded data removed]",
      "text/html": [
       "\n",
       "            <div style=\"display: inline-block;\">\n",
       "                <div class=\"jupyter-widgets widget-label\" style=\"text-align: center;\">\n",
       "                    Figure\n",
       "                </div>\n",
       "                <img src='data:image/png;base64,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' width=1000.0/>\n",
       "            </div>\n",
       "        "
      ],
      "text/plain": [
       "Canvas(toolbar=Toolbar(toolitems=[('Home', 'Reset original view', 'home', 'home'), ('Back', 'Back to previous …"
      ]
     },
     "metadata": {},
     "output_type": "display_data"
    }
   ],
   "source": [
    "%matplotlib widget\n",
    "sns.histplot(df[df[\"Date\"].dt.year==2016][\"Quantity\"].values, kde=True, bins=100)"
   ]
  },
  {
   "attachments": {},
   "cell_type": "markdown",
   "metadata": {},
   "source": [
    "Data bakwas hai!"
   ]
  },
  {
   "cell_type": "code",
   "execution_count": 28,
   "metadata": {},
   "outputs": [
    {
     "data": {
      "text/plain": [
       "'2022'"
      ]
     },
     "execution_count": 28,
     "metadata": {},
     "output_type": "execute_result"
    }
   ],
   "source": [
    "\"Q1 FY2022\"[-4:]"
   ]
  },
  {
   "cell_type": "code",
   "execution_count": 11,
   "metadata": {},
   "outputs": [],
   "source": [
    "df[\"Year\"] = df[\"Quarter\"].apply(lambda x: int(x[-4:]))\n",
    "validation_set[\"Year\"] = validation_set[\"Quarter\"].apply(lambda x: int(x[-4:]))"
   ]
  },
  {
   "cell_type": "code",
   "execution_count": 12,
   "metadata": {},
   "outputs": [
    {
     "data": {
      "text/plain": [
       "<AxesSubplot: xlabel='Year', ylabel='Quantity'>"
      ]
     },
     "execution_count": 12,
     "metadata": {},
     "output_type": "execute_result"
    },
    {
     "data": {
      "application/vnd.jupyter.widget-view+json": {
       "model_id": "b7a9a0297b6e4bbe874ab5293aa1d1f0",
       "version_major": 2,
       "version_minor": 0
      },
      "image/png": "[encoded data removed]",
      "text/html": [
       "\n",
       "            <div style=\"display: inline-block;\">\n",
       "                <div class=\"jupyter-widgets widget-label\" style=\"text-align: center;\">\n",
       "                    Figure\n",
       "                </div>\n",
       "                <img src='data:image/png;base64,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' width=1000.0/>\n",
       "            </div>\n",
       "        "
      ],
      "text/plain": [
       "Canvas(toolbar=Toolbar(toolitems=[('Home', 'Reset original view', 'home', 'home'), ('Back', 'Back to previous …"
      ]
     },
     "metadata": {},
     "output_type": "display_data"
    }
   ],
   "source": [
    "%matplotlib widget\n",
    "sns.lineplot(data=df.groupby(\"Year\").sum(numeric_only=True), x=\"Year\", y=\"Quantity\")"
   ]
  },
  {
   "cell_type": "code",
   "execution_count": 13,
   "metadata": {},
   "outputs": [
    {
     "data": {
      "text/plain": [
       "73"
      ]
     },
     "execution_count": 13,
     "metadata": {},
     "output_type": "execute_result"
    }
   ],
   "source": [
    "df[\"Family\"].nunique()"
   ]
  },
  {
   "cell_type": "code",
   "execution_count": 14,
   "metadata": {},
   "outputs": [
    {
     "data": {
      "text/html": [
       "<div>\n",
       "<style scoped>\n",
       "    .dataframe tbody tr th:only-of-type {\n",
       "        vertical-align: middle;\n",
       "    }\n",
       "\n",
       "    .dataframe tbody tr th {\n",
       "        vertical-align: top;\n",
       "    }\n",
       "\n",
       "    .dataframe thead th {\n",
       "        text-align: right;\n",
       "    }\n",
       "</style>\n",
       "<table border=\"1\" class=\"dataframe\">\n",
       "  <thead>\n",
       "    <tr style=\"text-align: right;\">\n",
       "      <th></th>\n",
       "      <th>Unit</th>\n",
       "      <th>Family</th>\n",
       "      <th>PLID</th>\n",
       "      <th>Quarter</th>\n",
       "      <th>Month</th>\n",
       "      <th>Quantity</th>\n",
       "      <th>Date</th>\n",
       "      <th>Year</th>\n",
       "    </tr>\n",
       "  </thead>\n",
       "  <tbody>\n",
       "    <tr>\n",
       "      <th>0</th>\n",
       "      <td>CSWBU</td>\n",
       "      <td>CBR8</td>\n",
       "      <td>CBR-D121-DS-MOD</td>\n",
       "      <td>Q1 FY2022</td>\n",
       "      <td>AUG FY2022</td>\n",
       "      <td>204</td>\n",
       "      <td>2016-01-08</td>\n",
       "      <td>2022</td>\n",
       "    </tr>\n",
       "    <tr>\n",
       "      <th>1</th>\n",
       "      <td>CSWBU</td>\n",
       "      <td>CBR8</td>\n",
       "      <td>CBR-D121-DS-MOD</td>\n",
       "      <td>Q1 FY2022</td>\n",
       "      <td>OCT FY2022</td>\n",
       "      <td>564</td>\n",
       "      <td>2016-01-10</td>\n",
       "      <td>2022</td>\n",
       "    </tr>\n",
       "    <tr>\n",
       "      <th>2</th>\n",
       "      <td>CSWBU</td>\n",
       "      <td>CBR8</td>\n",
       "      <td>CBR-D121-DS-MOD</td>\n",
       "      <td>Q1 FY2022</td>\n",
       "      <td>SEP FY2022</td>\n",
       "      <td>1476</td>\n",
       "      <td>2016-01-09</td>\n",
       "      <td>2022</td>\n",
       "    </tr>\n",
       "    <tr>\n",
       "      <th>3</th>\n",
       "      <td>CSWBU</td>\n",
       "      <td>CBR8</td>\n",
       "      <td>CBR-D121-DS-MOD</td>\n",
       "      <td>Q1 FY2002</td>\n",
       "      <td>AUG FY2002</td>\n",
       "      <td>374</td>\n",
       "      <td>2017-01-08</td>\n",
       "      <td>2002</td>\n",
       "    </tr>\n",
       "    <tr>\n",
       "      <th>4</th>\n",
       "      <td>CSWBU</td>\n",
       "      <td>CBR8</td>\n",
       "      <td>CBR-D121-DS-MOD</td>\n",
       "      <td>Q1 FY2002</td>\n",
       "      <td>OCT FY2002</td>\n",
       "      <td>6094</td>\n",
       "      <td>2017-01-10</td>\n",
       "      <td>2002</td>\n",
       "    </tr>\n",
       "  </tbody>\n",
       "</table>\n",
       "</div>"
      ],
      "text/plain": [
       "    Unit Family             PLID    Quarter       Month  Quantity       Date  \\\n",
       "0  CSWBU   CBR8  CBR-D121-DS-MOD  Q1 FY2022  AUG FY2022       204 2016-01-08   \n",
       "1  CSWBU   CBR8  CBR-D121-DS-MOD  Q1 FY2022  OCT FY2022       564 2016-01-10   \n",
       "2  CSWBU   CBR8  CBR-D121-DS-MOD  Q1 FY2022  SEP FY2022      1476 2016-01-09   \n",
       "3  CSWBU   CBR8  CBR-D121-DS-MOD  Q1 FY2002  AUG FY2002       374 2017-01-08   \n",
       "4  CSWBU   CBR8  CBR-D121-DS-MOD  Q1 FY2002  OCT FY2002      6094 2017-01-10   \n",
       "\n",
       "   Year  \n",
       "0  2022  \n",
       "1  2022  \n",
       "2  2022  \n",
       "3  2002  \n",
       "4  2002  "
      ]
     },
     "execution_count": 14,
     "metadata": {},
     "output_type": "execute_result"
    }
   ],
   "source": [
    "df.head()"
   ]
  },
  {
   "cell_type": "code",
   "execution_count": 15,
   "metadata": {},
   "outputs": [],
   "source": [
    "df[\"Booking_Month\"] = df[\"Date\"].dt.month\n",
    "df[\"Booking_Year\"] = df[\"Date\"].dt.year\n",
    "df[\"Quarter\"] = df[\"Quarter\"].apply(lambda x: x[:2])\n",
    "df[\"Month\"] = df[\"Month\"].apply(lambda x: x.split(\" \")[0])\n",
    "\n",
    "validation_set[\"Booking_Month\"] = validation_set[\"Date\"].dt.month\n",
    "validation_set[\"Booking_Year\"] = validation_set[\"Date\"].dt.year\n",
    "validation_set[\"Quarter\"] = validation_set[\"Quarter\"].apply(lambda x: x[:2])\n",
    "validation_set[\"Month\"] = validation_set[\"Month\"].apply(lambda x: x.split(\" \")[0])"
   ]
  },
  {
   "cell_type": "code",
   "execution_count": 16,
   "metadata": {},
   "outputs": [
    {
     "data": {
      "text/plain": [
       "Index(['Unit', 'Family', 'PLID', 'Quarter', 'Month', 'Quantity', 'Date',\n",
       "       'Year', 'Booking_Month', 'Booking_Year'],\n",
       "      dtype='object')"
      ]
     },
     "execution_count": 16,
     "metadata": {},
     "output_type": "execute_result"
    }
   ],
   "source": [
    "df.columns"
   ]
  },
  {
   "cell_type": "code",
   "execution_count": 17,
   "metadata": {},
   "outputs": [],
   "source": [
    "df.drop(columns=[\"PLID\", \"Family\", \"Date\"], inplace=True)\n",
    "validation_set.drop(columns=[\"PLID\", \"Family\", \"Date\"], inplace=True)"
   ]
  },
  {
   "cell_type": "code",
   "execution_count": 18,
   "metadata": {},
   "outputs": [
    {
     "name": "stdout",
     "output_type": "stream",
     "text": [
      "<class 'pandas.core.frame.DataFrame'>\n",
      "RangeIndex: 10862 entries, 0 to 10861\n",
      "Data columns (total 7 columns):\n",
      " #   Column         Non-Null Count  Dtype \n",
      "---  ------         --------------  ----- \n",
      " 0   Unit           10862 non-null  object\n",
      " 1   Quarter        10862 non-null  object\n",
      " 2   Month          10862 non-null  object\n",
      " 3   Quantity       10862 non-null  int64 \n",
      " 4   Year           10862 non-null  int64 \n",
      " 5   Booking_Month  10862 non-null  int64 \n",
      " 6   Booking_Year   10862 non-null  int64 \n",
      "dtypes: int64(4), object(3)\n",
      "memory usage: 594.1+ KB\n"
     ]
    }
   ],
   "source": [
    "df.info()"
   ]
  },
  {
   "cell_type": "code",
   "execution_count": 19,
   "metadata": {},
   "outputs": [],
   "source": [
    "df.to_csv(\"train_set_final.csv\", index=False)\n",
    "validation_set.to_csv(\"validation_set_final.csv\", index=False)"
   ]
  }
 ],
 "metadata": {
  "kernelspec": {
   "display_name": "my_env",
   "language": "python",
   "name": "python3"
  },
  "language_info": {
   "codemirror_mode": {
    "name": "ipython",
    "version": 3
   },
   "file_extension": ".py",
   "mimetype": "text/x-python",
   "name": "python",
   "nbconvert_exporter": "python",
   "pygments_lexer": "ipython3",
   "version": "3.10.6"
  },
  "orig_nbformat": 4,
  "vscode": {
   "interpreter": {
    "hash": "333ad066d239af8659780667608f3e14a8c59d1eb92890b0405dfaef9e357b30"
   }
  }
 },
 "nbformat": 4,
 "nbformat_minor": 2
}
