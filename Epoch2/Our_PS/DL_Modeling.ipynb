{
 "cells": [
  {
   "attachments": {},
   "cell_type": "markdown",
   "metadata": {},
   "source": [
    "# Imports"
   ]
  },
  {
   "cell_type": "code",
   "execution_count": 27,
   "metadata": {},
   "outputs": [],
   "source": [
    "import pandas as pd\n",
    "import numpy as np\n",
    "import matplotlib.pyplot as plt\n",
    "import seaborn as sns\n",
    "\n",
    "from sklearn.model_selection import train_test_split\n",
    "from sklearn.preprocessing import OneHotEncoder\n",
    "from sklearn.metrics import r2_score, mean_squared_error\n",
    "\n",
    "\n",
    "from tensorflow.keras.models import Model\n",
    "import tensorflow.keras.layers as tfl\n",
    "import tensorflow as tf\n",
    "import tensorflow_addons as tfa"
   ]
  },
  {
   "attachments": {},
   "cell_type": "markdown",
   "metadata": {},
   "source": [
    "# Loading Data"
   ]
  },
  {
   "cell_type": "code",
   "execution_count": 13,
   "metadata": {},
   "outputs": [],
   "source": [
    "df = pd.read_csv(\"train_set_final.csv\")"
   ]
  },
  {
   "cell_type": "code",
   "execution_count": 14,
   "metadata": {},
   "outputs": [],
   "source": [
    "y = df[\"Quantity\"]\n",
    "X = df.drop(\"Quantity\", axis=1)\n"
   ]
  },
  {
   "cell_type": "code",
   "execution_count": 15,
   "metadata": {},
   "outputs": [],
   "source": [
    "X = pd.get_dummies(X, drop_first=True, columns=X.columns)"
   ]
  },
  {
   "cell_type": "code",
   "execution_count": 16,
   "metadata": {},
   "outputs": [],
   "source": [
    "X_train, X_test, y_train, y_test = train_test_split(X, y, test_size=0.2, random_state=42)"
   ]
  },
  {
   "cell_type": "code",
   "execution_count": 18,
   "metadata": {},
   "outputs": [
    {
     "name": "stderr",
     "output_type": "stream",
     "text": [
      "2022-12-27 18:33:08.166027: I tensorflow/core/platform/cpu_feature_guard.cc:193] This TensorFlow binary is optimized with oneAPI Deep Neural Network Library (oneDNN) to use the following CPU instructions in performance-critical operations:  AVX2 FMA\n",
      "To enable them in other operations, rebuild TensorFlow with the appropriate compiler flags.\n"
     ]
    }
   ],
   "source": [
    "X_train = tf.data.Dataset.from_tensor_slices(X_train.values)\n",
    "y_train = tf.data.Dataset.from_tensor_slices(y_train.values)\n",
    "train_df = tf.data.Dataset.zip((X_train, y_train))\n",
    "\n",
    "X_test = tf.data.Dataset.from_tensor_slices(X_test.values)\n",
    "y_test = tf.data.Dataset.from_tensor_slices(y_test.values)\n",
    "test_df = tf.data.Dataset.zip((X_test, y_test))\n",
    "\n",
    "train_df = train_df.batch(32).prefetch(tf.data.AUTOTUNE)\n",
    "test_df = test_df.batch(32).prefetch(tf.data.AUTOTUNE)"
   ]
  },
  {
   "cell_type": "code",
   "execution_count": 44,
   "metadata": {},
   "outputs": [],
   "source": [
    "def create_model_0():\n",
    "    input_layer = tfl.Input(shape=(X.shape[1],), name=\"input_layer\")\n",
    "    x = tfl.Dense(128, activation=\"relu\", name = \"dense1\")(input_layer)\n",
    "    x = tfl.Dense(64, activation=\"relu\", name=\"dense2\")(x)\n",
    "    x = tfl.Dense(32, activation=\"relu\", name=\"dense3\")(x)\n",
    "    output_layer = tfl.Dense(1, name=\"output_layer\")(x)\n",
    "\n",
    "    model = Model(inputs=input_layer, outputs=output_layer, name=\"model_0\")\n",
    "\n",
    "    print(model.summary())\n",
    "    model.compile(loss=\"mse\", optimizer=\"adam\", metrics=[\"mae\", tfa.metrics.RSquare()])\n",
    "    return model"
   ]
  },
  {
   "cell_type": "code",
   "execution_count": 45,
   "metadata": {},
   "outputs": [
    {
     "name": "stdout",
     "output_type": "stream",
     "text": [
      "Model: \"model_0\"\n",
      "_________________________________________________________________\n",
      " Layer (type)                Output Shape              Param #   \n",
      "=================================================================\n",
      " input_layer (InputLayer)    [(None, 48)]              0         \n",
      "                                                                 \n",
      " dense1 (Dense)              (None, 128)               6272      \n",
      "                                                                 \n",
      " dense2 (Dense)              (None, 64)                8256      \n",
      "                                                                 \n",
      " dense3 (Dense)              (None, 32)                2080      \n",
      "                                                                 \n",
      " output_layer (Dense)        (None, 1)                 33        \n",
      "                                                                 \n",
      "=================================================================\n",
      "Total params: 16,641\n",
      "Trainable params: 16,641\n",
      "Non-trainable params: 0\n",
      "_________________________________________________________________\n",
      "None\n"
     ]
    }
   ],
   "source": [
    "model_0 = create_model_0()"
   ]
  },
  {
   "cell_type": "code",
   "execution_count": 46,
   "metadata": {},
   "outputs": [
    {
     "name": "stdout",
     "output_type": "stream",
     "text": [
      "Epoch 1/10\n",
      "272/272 [==============================] - 3s 5ms/step - loss: 375332576.0000 - mae: 7394.4121 - r_square: -0.0680 - val_loss: 307324704.0000 - val_mae: 9440.4082 - val_r_square: 0.0538\n",
      "Epoch 2/10\n",
      "272/272 [==============================] - 1s 4ms/step - loss: 307782784.0000 - mae: 8899.0107 - r_square: 0.1242 - val_loss: 254519200.0000 - val_mae: 8594.5498 - val_r_square: 0.2164\n",
      "Epoch 3/10\n",
      "272/272 [==============================] - 1s 4ms/step - loss: 260665264.0000 - mae: 7676.7637 - r_square: 0.2583 - val_loss: 228438080.0000 - val_mae: 7489.8052 - val_r_square: 0.2967\n",
      "Epoch 4/10\n",
      "272/272 [==============================] - 1s 4ms/step - loss: 244196928.0000 - mae: 7050.2891 - r_square: 0.3051 - val_loss: 223681056.0000 - val_mae: 7138.2134 - val_r_square: 0.3113\n",
      "Epoch 5/10\n",
      "272/272 [==============================] - 1s 4ms/step - loss: 238122192.0000 - mae: 6824.8892 - r_square: 0.3224 - val_loss: 222235696.0000 - val_mae: 6988.0439 - val_r_square: 0.3158\n",
      "Epoch 6/10\n",
      "272/272 [==============================] - 1s 5ms/step - loss: 234776464.0000 - mae: 6708.5640 - r_square: 0.3319 - val_loss: 221611952.0000 - val_mae: 6907.3687 - val_r_square: 0.3177\n",
      "Epoch 7/10\n",
      "272/272 [==============================] - 1s 5ms/step - loss: 232635344.0000 - mae: 6643.1465 - r_square: 0.3380 - val_loss: 221262128.0000 - val_mae: 6859.3511 - val_r_square: 0.3188\n",
      "Epoch 8/10\n",
      "272/272 [==============================] - 1s 5ms/step - loss: 231126208.0000 - mae: 6600.7690 - r_square: 0.3423 - val_loss: 221023168.0000 - val_mae: 6827.8599 - val_r_square: 0.3195\n",
      "Epoch 9/10\n",
      "272/272 [==============================] - 1s 5ms/step - loss: 229984608.0000 - mae: 6571.9741 - r_square: 0.3456 - val_loss: 220864928.0000 - val_mae: 6806.8628 - val_r_square: 0.3200\n",
      "Epoch 10/10\n",
      "272/272 [==============================] - 1s 5ms/step - loss: 229080464.0000 - mae: 6550.7764 - r_square: 0.3481 - val_loss: 220754176.0000 - val_mae: 6793.3960 - val_r_square: 0.3203\n"
     ]
    }
   ],
   "source": [
    "history_0 = model_0.fit(train_df, validation_data=test_df, epochs=10, verbose=1)"
   ]
  },
  {
   "cell_type": "code",
   "execution_count": 72,
   "metadata": {},
   "outputs": [],
   "source": [
    "def create_model_1():\n",
    "    input_layer = tfl.Input(shape=(X.shape[1],), name=\"input_layer\")\n",
    "    # x = tfl.Dense(256, activation=\"relu\", name = \"dense11\")(input_layer)\n",
    "    # x = tfl.Dense(256, activation=\"relu\", name = \"dense12\")(x)\n",
    "    # x = tfl.Dropout(0.3, name=\"dropout1\")(x)\n",
    "    # x = tfl.BatchNormalization(name=\"batchnorm1\")(x)\n",
    "    x = tfl.Dense(128, activation=\"relu\", name=\"dense21\")(input_layer)\n",
    "    # x = tfl.Dense(128, activation=\"relu\", name=\"dense22\")(x)\n",
    "    x = tfl.Dropout(0.3, name=\"dropout2\")(x)\n",
    "    x = tfl.BatchNormalization(name=\"batchnorm2\")(x)\n",
    "    x = tfl.Dense(64, activation=\"relu\", name=\"dense31\")(x)\n",
    "    x = tfl.Dense(64, activation=\"relu\", name=\"dense32\")(x)\n",
    "    x = tfl.Dropout(0.3, name=\"dropout3\")(x)\n",
    "    x = tfl.BatchNormalization(name=\"batchnorm3\")(x)\n",
    "    x = tfl.Dense(32, activation=\"relu\", name=\"dense41\")(x)\n",
    "    x = tfl.Dense(32, activation=\"relu\", name=\"dense42\")(x)\n",
    "    # x = tfl.Dropout(0.3, name=\"dropout4\")(x)\n",
    "    # x = tfl.BatchNormalization(name=\"batchnorm4\")(x)\n",
    "    output_layer = tfl.Dense(1, name=\"output_layer\")(x)\n",
    "\n",
    "    model = Model(inputs=input_layer, outputs=output_layer, name=\"model_1\")\n",
    "\n",
    "    print(model.summary())\n",
    "    model.compile(loss=\"mse\", optimizer=\"adam\", metrics=[\"mse\", tfa.metrics.RSquare()])\n",
    "    return model"
   ]
  },
  {
   "cell_type": "code",
   "execution_count": 73,
   "metadata": {},
   "outputs": [
    {
     "name": "stdout",
     "output_type": "stream",
     "text": [
      "Model: \"model_1\"\n",
      "_________________________________________________________________\n",
      " Layer (type)                Output Shape              Param #   \n",
      "=================================================================\n",
      " input_layer (InputLayer)    [(None, 48)]              0         \n",
      "                                                                 \n",
      " dense21 (Dense)             (None, 128)               6272      \n",
      "                                                                 \n",
      " dropout2 (Dropout)          (None, 128)               0         \n",
      "                                                                 \n",
      " batchnorm2 (BatchNormalizat  (None, 128)              512       \n",
      " ion)                                                            \n",
      "                                                                 \n",
      " dense31 (Dense)             (None, 64)                8256      \n",
      "                                                                 \n",
      " dense32 (Dense)             (None, 64)                4160      \n",
      "                                                                 \n",
      " dropout3 (Dropout)          (None, 64)                0         \n",
      "                                                                 \n",
      " batchnorm3 (BatchNormalizat  (None, 64)               256       \n",
      " ion)                                                            \n",
      "                                                                 \n",
      " dense41 (Dense)             (None, 32)                2080      \n",
      "                                                                 \n",
      " dense42 (Dense)             (None, 32)                1056      \n",
      "                                                                 \n",
      " output_layer (Dense)        (None, 1)                 33        \n",
      "                                                                 \n",
      "=================================================================\n",
      "Total params: 22,625\n",
      "Trainable params: 22,241\n",
      "Non-trainable params: 384\n",
      "_________________________________________________________________\n",
      "None\n"
     ]
    }
   ],
   "source": [
    "model_1 = create_model_1()"
   ]
  },
  {
   "cell_type": "code",
   "execution_count": 74,
   "metadata": {},
   "outputs": [
    {
     "name": "stdout",
     "output_type": "stream",
     "text": [
      "Epoch 1/10\n",
      "272/272 [==============================] - 3s 4ms/step - loss: 387055264.0000 - mse: 387055264.0000 - r_square: -0.1014 - val_loss: 327810880.0000 - val_mse: 327810880.0000 - val_r_square: -0.0093\n",
      "Epoch 2/10\n",
      "272/272 [==============================] - 1s 4ms/step - loss: 267539872.0000 - mse: 267539872.0000 - r_square: 0.2387 - val_loss: 220692864.0000 - val_mse: 220692864.0000 - val_r_square: 0.3205\n",
      "Epoch 3/10\n",
      "272/272 [==============================] - 1s 4ms/step - loss: 242654752.0000 - mse: 242654752.0000 - r_square: 0.3095 - val_loss: 220164912.0000 - val_mse: 220164912.0000 - val_r_square: 0.3221\n",
      "Epoch 4/10\n",
      "272/272 [==============================] - 1s 3ms/step - loss: 239369104.0000 - mse: 239369104.0000 - r_square: 0.3189 - val_loss: 223425984.0000 - val_mse: 223425984.0000 - val_r_square: 0.3121\n",
      "Epoch 5/10\n",
      "272/272 [==============================] - 1s 4ms/step - loss: 235589600.0000 - mse: 235589600.0000 - r_square: 0.3296 - val_loss: 229828080.0000 - val_mse: 229828080.0000 - val_r_square: 0.2924\n",
      "Epoch 6/10\n",
      "272/272 [==============================] - 1s 4ms/step - loss: 235161296.0000 - mse: 235161296.0000 - r_square: 0.3308 - val_loss: 224976656.0000 - val_mse: 224976656.0000 - val_r_square: 0.3073\n",
      "Epoch 7/10\n",
      "272/272 [==============================] - 1s 4ms/step - loss: 232346368.0000 - mse: 232346368.0000 - r_square: 0.3389 - val_loss: 232193920.0000 - val_mse: 232193920.0000 - val_r_square: 0.2851\n",
      "Epoch 8/10\n",
      "272/272 [==============================] - 1s 4ms/step - loss: 229403232.0000 - mse: 229403232.0000 - r_square: 0.3472 - val_loss: 235444864.0000 - val_mse: 235444864.0000 - val_r_square: 0.2751\n",
      "Epoch 9/10\n",
      "272/272 [==============================] - 1s 4ms/step - loss: 228988448.0000 - mse: 228988448.0000 - r_square: 0.3484 - val_loss: 228362928.0000 - val_mse: 228362928.0000 - val_r_square: 0.2969\n",
      "Epoch 10/10\n",
      "272/272 [==============================] - 1s 4ms/step - loss: 229274624.0000 - mse: 229274624.0000 - r_square: 0.3476 - val_loss: 231277472.0000 - val_mse: 231277472.0000 - val_r_square: 0.2879\n"
     ]
    }
   ],
   "source": [
    "history_1 = model_1.fit(train_df, validation_data=test_df, epochs=10, verbose=1)"
   ]
  },
  {
   "cell_type": "code",
   "execution_count": 65,
   "metadata": {},
   "outputs": [
    {
     "data": {
      "text/plain": [
       "19047.975640471614"
      ]
     },
     "execution_count": 65,
     "metadata": {},
     "output_type": "execute_result"
    }
   ],
   "source": [
    "np.sqrt(362825376.0000)"
   ]
  }
 ],
 "metadata": {
  "kernelspec": {
   "display_name": "data-science",
   "language": "python",
   "name": "python3"
  },
  "language_info": {
   "codemirror_mode": {
    "name": "ipython",
    "version": 3
   },
   "file_extension": ".py",
   "mimetype": "text/x-python",
   "name": "python",
   "nbconvert_exporter": "python",
   "pygments_lexer": "ipython3",
   "version": "3.9.15"
  },
  "orig_nbformat": 4,
  "vscode": {
   "interpreter": {
    "hash": "2efee1efa502125d01e6b4768ba06d9453d29f3642bfd14ad5d4a769de82e88c"
   }
  }
 },
 "nbformat": 4,
 "nbformat_minor": 2
}
